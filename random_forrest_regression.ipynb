{
 "cells": [
  {
   "cell_type": "code",
   "execution_count": 38,
   "metadata": {},
   "outputs": [],
   "source": [
    "import numpy as np\n",
    "import matplotlib.pyplot as plt\n",
    "import pandas as pd\n",
    "\n",
    "dataset = pd.read_csv('ElectionData.csv')\n",
    "dataset = dataset.drop(\"TimeElapsed\", axis=1)\n",
    "dataset = dataset.drop(\"time\", axis=1)\n",
    "\n",
    "# Define X as the matrix of features (independent) and \n",
    "# y as the matrix for the dependent variable\n",
    "X = dataset.iloc[:, :-1].values\n",
    "y = dataset.iloc[:, -1].values"
   ]
  },
  {
   "cell_type": "code",
   "execution_count": 39,
   "metadata": {},
   "outputs": [
    {
     "name": "stdout",
     "output_type": "stream",
     "text": [
      "[['Território Nacional' 0 226 ... 40.22 147993 94]\n",
      " ['Território Nacional' 0 226 ... 34.95 128624 81]\n",
      " ['Território Nacional' 0 226 ... 7.15 26307 16]\n",
      " ...\n",
      " ['Viseu' 8 0 ... 0.15 256 0]\n",
      " ['Viseu' 8 0 ... 0.14 239 0]\n",
      " ['Viseu' 8 0 ... 0.07 118 0]]\n"
     ]
    }
   ],
   "source": [
    "print(X)"
   ]
  },
  {
   "cell_type": "code",
   "execution_count": 40,
   "metadata": {},
   "outputs": [
    {
     "name": "stdout",
     "output_type": "stream",
     "text": [
      "[106  77  19 ...   0   0   0]\n"
     ]
    }
   ],
   "source": [
    "print(y)"
   ]
  },
  {
   "cell_type": "markdown",
   "metadata": {},
   "source": [
    "## Encode categorical data"
   ]
  },
  {
   "cell_type": "code",
   "execution_count": 41,
   "metadata": {},
   "outputs": [
    {
     "name": "stdout",
     "output_type": "stream",
     "text": [
      "Index 0- Name: territoryName- type: object\n",
      "Index 1- Name: totalMandates- type: int64\n",
      "Index 2- Name: availableMandates- type: int64\n",
      "Index 3- Name: numParishes- type: int64\n",
      "Index 4- Name: numParishesApproved- type: int64\n",
      "Index 5- Name: blankVotes- type: int64\n",
      "Index 6- Name: blankVotesPercentage- type: float64\n",
      "Index 7- Name: nullVotes- type: int64\n",
      "Index 8- Name: nullVotesPercentage- type: float64\n",
      "Index 9- Name: votersPercentage- type: float64\n",
      "Index 10- Name: subscribedVoters- type: int64\n",
      "Index 11- Name: totalVoters- type: int64\n",
      "Index 12- Name: pre.blankVotes- type: int64\n",
      "Index 13- Name: pre.blankVotesPercentage- type: float64\n",
      "Index 14- Name: pre.nullVotes- type: int64\n",
      "Index 15- Name: pre.nullVotesPercentage- type: float64\n",
      "Index 16- Name: pre.votersPercentage- type: float64\n",
      "Index 17- Name: pre.subscribedVoters- type: int64\n",
      "Index 18- Name: pre.totalVoters- type: int64\n",
      "Index 19- Name: Party- type: object\n",
      "Index 20- Name: Mandates- type: int64\n",
      "Index 21- Name: Percentage- type: float64\n",
      "Index 22- Name: validVotesPercentage- type: float64\n",
      "Index 23- Name: Votes- type: int64\n",
      "Index 24- Name: Hondt- type: int64\n",
      "Index 25- Name: FinalMandates- type: int64\n"
     ]
    }
   ],
   "source": [
    "index = 0\n",
    "for col in dataset.columns:\n",
    "    print(\"Index {}- Name: {}- type: {}\".format(index, col, dataset[col].dtypes))\n",
    "    index += 1"
   ]
  },
  {
   "cell_type": "code",
   "execution_count": 42,
   "metadata": {},
   "outputs": [],
   "source": [
    "# Columns with index 0 and 19 need encoding\n",
    "from sklearn.compose import ColumnTransformer\n",
    "from sklearn.preprocessing import OneHotEncoder\n",
    "\n",
    "ct = ColumnTransformer(transformers=[('encoder', OneHotEncoder(), [0, 19])], remainder='passthrough')\n",
    "\n",
    "# Fit and do the transformation on X.\n",
    "# Since the fit_transform returns the transformed matrix, we need\n",
    "# to save the output to X as a numpy array because this will be expected\n",
    "# from the machine learning algo\n",
    "X = np.array(ct.fit_transform(X))"
   ]
  },
  {
   "cell_type": "code",
   "execution_count": 43,
   "metadata": {},
   "outputs": [
    {
     "name": "stdout",
     "output_type": "stream",
     "text": [
      "[[0.0 0.0 0.0 ... 40.22 147993 94]\n",
      " [0.0 0.0 0.0 ... 34.95 128624 81]\n",
      " [0.0 0.0 0.0 ... 7.15 26307 16]\n",
      " ...\n",
      " [0.0 0.0 0.0 ... 0.15 256 0]\n",
      " [0.0 0.0 0.0 ... 0.14 239 0]\n",
      " [0.0 0.0 0.0 ... 0.07 118 0]]\n"
     ]
    }
   ],
   "source": [
    "print(X)"
   ]
  },
  {
   "cell_type": "markdown",
   "metadata": {},
   "source": [
    "## Splitting Data"
   ]
  },
  {
   "cell_type": "code",
   "execution_count": 44,
   "metadata": {},
   "outputs": [],
   "source": [
    "from sklearn.model_selection import train_test_split\n",
    "X_train, X_test, y_train, y_test = train_test_split(X, y, test_size = 0.2, random_state = 0)"
   ]
  },
  {
   "cell_type": "markdown",
   "metadata": {},
   "source": [
    "## Training the Random Forest Regression model on the whole dataset"
   ]
  },
  {
   "cell_type": "code",
   "execution_count": 45,
   "metadata": {},
   "outputs": [
    {
     "data": {
      "text/plain": [
       "RandomForestRegressor(bootstrap=True, ccp_alpha=0.0, criterion='mse',\n",
       "                      max_depth=None, max_features='auto', max_leaf_nodes=None,\n",
       "                      max_samples=None, min_impurity_decrease=0.0,\n",
       "                      min_impurity_split=None, min_samples_leaf=1,\n",
       "                      min_samples_split=2, min_weight_fraction_leaf=0.0,\n",
       "                      n_estimators=10, n_jobs=None, oob_score=False,\n",
       "                      random_state=0, verbose=0, warm_start=False)"
      ]
     },
     "execution_count": 45,
     "metadata": {},
     "output_type": "execute_result"
    }
   ],
   "source": [
    "from sklearn.ensemble import RandomForestRegressor\n",
    "regressor = RandomForestRegressor(n_estimators = 10, random_state = 0)\n",
    "regressor.fit(X_train, y_train)"
   ]
  },
  {
   "cell_type": "markdown",
   "metadata": {},
   "source": [
    "## Predicting the Test set results"
   ]
  },
  {
   "cell_type": "code",
   "execution_count": 46,
   "metadata": {},
   "outputs": [],
   "source": [
    "y_pred = regressor.predict(X_test)"
   ]
  },
  {
   "cell_type": "markdown",
   "metadata": {},
   "source": [
    "## Evaluating the Model Performance"
   ]
  },
  {
   "cell_type": "code",
   "execution_count": 47,
   "metadata": {},
   "outputs": [
    {
     "name": "stdout",
     "output_type": "stream",
     "text": [
      "0.9999626864642273\n"
     ]
    }
   ],
   "source": [
    "from sklearn.metrics import r2_score\n",
    "print(r2_score(y_test, y_pred))"
   ]
  }
 ],
 "metadata": {
  "kernelspec": {
   "display_name": "Python 3",
   "language": "python",
   "name": "python3"
  },
  "language_info": {
   "codemirror_mode": {
    "name": "ipython",
    "version": 3
   },
   "file_extension": ".py",
   "mimetype": "text/x-python",
   "name": "python",
   "nbconvert_exporter": "python",
   "pygments_lexer": "ipython3",
   "version": "3.7.6"
  }
 },
 "nbformat": 4,
 "nbformat_minor": 4
}
