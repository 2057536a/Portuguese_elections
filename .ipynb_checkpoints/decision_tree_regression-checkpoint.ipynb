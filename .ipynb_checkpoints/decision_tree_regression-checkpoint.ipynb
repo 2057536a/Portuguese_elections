{
 "cells": [
  {
   "cell_type": "code",
   "execution_count": 33,
   "metadata": {},
   "outputs": [],
   "source": [
    "import numpy as np\n",
    "import matplotlib.pyplot as plt\n",
    "import pandas as pd\n",
    "\n",
    "dataset = pd.read_csv('ElectionData.csv')\n",
    "dataset = dataset.drop(\"TimeElapsed\", axis=1)\n",
    "dataset = dataset.drop(\"time\", axis=1)\n",
    "\n",
    "# Define X as the matrix of features (independent) and \n",
    "# y as the matrix for the dependent variable\n",
    "X = dataset.iloc[:, :-1].values\n",
    "y = dataset.iloc[:, -1].values"
   ]
  },
  {
   "cell_type": "code",
   "execution_count": 34,
   "metadata": {},
   "outputs": [
    {
     "name": "stdout",
     "output_type": "stream",
     "text": [
      "[['Território Nacional' 0 226 ... 40.22 147993 94]\n",
      " ['Território Nacional' 0 226 ... 34.95 128624 81]\n",
      " ['Território Nacional' 0 226 ... 7.15 26307 16]\n",
      " ...\n",
      " ['Viseu' 8 0 ... 0.15 256 0]\n",
      " ['Viseu' 8 0 ... 0.14 239 0]\n",
      " ['Viseu' 8 0 ... 0.07 118 0]]\n"
     ]
    }
   ],
   "source": [
    "print(X)"
   ]
  },
  {
   "cell_type": "code",
   "execution_count": 36,
   "metadata": {},
   "outputs": [
    {
     "name": "stdout",
     "output_type": "stream",
     "text": [
      "[[106]\n",
      " [ 77]\n",
      " [ 19]\n",
      " ...\n",
      " [  0]\n",
      " [  0]\n",
      " [  0]]\n"
     ]
    }
   ],
   "source": [
    "y = y.reshape(len(y), 1)\n",
    "print(y)"
   ]
  },
  {
   "cell_type": "markdown",
   "metadata": {},
   "source": [
    "## Encode categorical data"
   ]
  },
  {
   "cell_type": "code",
   "execution_count": 37,
   "metadata": {},
   "outputs": [
    {
     "name": "stdout",
     "output_type": "stream",
     "text": [
      "Index 0- Name: territoryName- type: object\n",
      "Index 1- Name: totalMandates- type: int64\n",
      "Index 2- Name: availableMandates- type: int64\n",
      "Index 3- Name: numParishes- type: int64\n",
      "Index 4- Name: numParishesApproved- type: int64\n",
      "Index 5- Name: blankVotes- type: int64\n",
      "Index 6- Name: blankVotesPercentage- type: float64\n",
      "Index 7- Name: nullVotes- type: int64\n",
      "Index 8- Name: nullVotesPercentage- type: float64\n",
      "Index 9- Name: votersPercentage- type: float64\n",
      "Index 10- Name: subscribedVoters- type: int64\n",
      "Index 11- Name: totalVoters- type: int64\n",
      "Index 12- Name: pre.blankVotes- type: int64\n",
      "Index 13- Name: pre.blankVotesPercentage- type: float64\n",
      "Index 14- Name: pre.nullVotes- type: int64\n",
      "Index 15- Name: pre.nullVotesPercentage- type: float64\n",
      "Index 16- Name: pre.votersPercentage- type: float64\n",
      "Index 17- Name: pre.subscribedVoters- type: int64\n",
      "Index 18- Name: pre.totalVoters- type: int64\n",
      "Index 19- Name: Party- type: object\n",
      "Index 20- Name: Mandates- type: int64\n",
      "Index 21- Name: Percentage- type: float64\n",
      "Index 22- Name: validVotesPercentage- type: float64\n",
      "Index 23- Name: Votes- type: int64\n",
      "Index 24- Name: Hondt- type: int64\n",
      "Index 25- Name: FinalMandates- type: int64\n"
     ]
    }
   ],
   "source": [
    "index = 0\n",
    "for col in dataset.columns:\n",
    "    print(\"Index {}- Name: {}- type: {}\".format(index, col, dataset[col].dtypes))\n",
    "    index += 1"
   ]
  },
  {
   "cell_type": "code",
   "execution_count": 38,
   "metadata": {},
   "outputs": [],
   "source": [
    "# Columns with index 0 and 19 need encoding\n",
    "from sklearn.compose import ColumnTransformer\n",
    "from sklearn.preprocessing import OneHotEncoder\n",
    "\n",
    "ct = ColumnTransformer(transformers=[('encoder', OneHotEncoder(), [0, 19])], remainder='passthrough')\n",
    "\n",
    "# Fit and do the transformation on X.\n",
    "# Since the fit_transform returns the transformed matrix, we need\n",
    "# to save the output to X as a numpy array because this will be expected\n",
    "# from the machine learning algo\n",
    "X = np.array(ct.fit_transform(X))"
   ]
  },
  {
   "cell_type": "code",
   "execution_count": 39,
   "metadata": {},
   "outputs": [
    {
     "name": "stdout",
     "output_type": "stream",
     "text": [
      "[[0.0 0.0 0.0 ... 40.22 147993 94]\n",
      " [0.0 0.0 0.0 ... 34.95 128624 81]\n",
      " [0.0 0.0 0.0 ... 7.15 26307 16]\n",
      " ...\n",
      " [0.0 0.0 0.0 ... 0.15 256 0]\n",
      " [0.0 0.0 0.0 ... 0.14 239 0]\n",
      " [0.0 0.0 0.0 ... 0.07 118 0]]\n"
     ]
    }
   ],
   "source": [
    "print(X)"
   ]
  },
  {
   "cell_type": "markdown",
   "metadata": {},
   "source": [
    "## Splitting Data"
   ]
  },
  {
   "cell_type": "code",
   "execution_count": 40,
   "metadata": {},
   "outputs": [],
   "source": [
    "from sklearn.model_selection import train_test_split\n",
    "X_train, X_test, y_train, y_test = train_test_split(X, y, test_size = 0.2, random_state = 0)"
   ]
  },
  {
   "cell_type": "markdown",
   "metadata": {},
   "source": [
    "## Feature Scaling"
   ]
  },
  {
   "cell_type": "code",
   "execution_count": 41,
   "metadata": {},
   "outputs": [],
   "source": [
    "from sklearn.preprocessing import StandardScaler\n",
    "sc_X = StandardScaler()\n",
    "sc_y = StandardScaler()\n",
    "X_train = sc_X.fit_transform(X_train)\n",
    "y_train = sc_y.fit_transform(y_train)"
   ]
  },
  {
   "cell_type": "code",
   "execution_count": 44,
   "metadata": {},
   "outputs": [
    {
     "name": "stdout",
     "output_type": "stream",
     "text": [
      "[[-0.22847971 -0.19496049 -0.21100285 ...  0.90398251  0.3262527\n",
      "   0.29045873]\n",
      " [-0.22847971 -0.19496049 -0.21100285 ... -0.42655788 -0.16653582\n",
      "  -0.17992249]\n",
      " [-0.22847971 -0.19496049 -0.21100285 ... -0.45769234 -0.16721789\n",
      "  -0.17992249]\n",
      " ...\n",
      " [-0.22847971 -0.19496049 -0.21100285 ... -0.17290359  0.04419063\n",
      "  -0.02312875]\n",
      " [-0.22847971  5.12924441 -0.21100285 ... -0.46684953 -0.17139691\n",
      "  -0.17992249]\n",
      " [-0.22847971  5.12924441 -0.21100285 ... -0.42106356 -0.17162427\n",
      "  -0.17992249]]\n"
     ]
    }
   ],
   "source": [
    "print(X_train)"
   ]
  },
  {
   "cell_type": "code",
   "execution_count": 45,
   "metadata": {},
   "outputs": [
    {
     "name": "stdout",
     "output_type": "stream",
     "text": [
      "[[ 0.26688315]\n",
      " [-0.1654266 ]\n",
      " [-0.1654266 ]\n",
      " ...\n",
      " [-0.02132335]\n",
      " [-0.1654266 ]\n",
      " [-0.1654266 ]]\n"
     ]
    }
   ],
   "source": [
    "print(y_train)"
   ]
  },
  {
   "cell_type": "code",
   "execution_count": null,
   "metadata": {},
   "outputs": [],
   "source": []
  }
 ],
 "metadata": {
  "kernelspec": {
   "display_name": "Python 3",
   "language": "python",
   "name": "python3"
  },
  "language_info": {
   "codemirror_mode": {
    "name": "ipython",
    "version": 3
   },
   "file_extension": ".py",
   "mimetype": "text/x-python",
   "name": "python",
   "nbconvert_exporter": "python",
   "pygments_lexer": "ipython3",
   "version": "3.7.6"
  }
 },
 "nbformat": 4,
 "nbformat_minor": 4
}
