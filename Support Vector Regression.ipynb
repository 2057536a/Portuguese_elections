{
 "cells": [
  {
   "cell_type": "code",
   "execution_count": 154,
   "metadata": {},
   "outputs": [],
   "source": [
    "import numpy as np\n",
    "import matplotlib.pyplot as plt\n",
    "import pandas as pd\n",
    "from sklearn.compose import ColumnTransformer\n",
    "from sklearn.preprocessing import OneHotEncoder\n",
    "from sklearn.preprocessing import StandardScaler\n",
    "from sklearn.model_selection import train_test_split\n",
    "from sklearn.svm import SVR\n",
    "from sklearn.metrics import r2_score"
   ]
  },
  {
   "cell_type": "markdown",
   "metadata": {},
   "source": [
    "## Importing the data"
   ]
  },
  {
   "cell_type": "code",
   "execution_count": 155,
   "metadata": {},
   "outputs": [],
   "source": [
    "dataset = pd.read_csv(\"ElectionData.csv\")\n",
    "\n",
    "dataset = dataset.drop(\"TimeElapsed\", axis=1)\n",
    "dataset = dataset.drop(\"time\", axis=1)\n",
    "\n",
    "\n",
    "X = dataset.iloc[:, :-1].values\n",
    "y = dataset.iloc[:, -1].values"
   ]
  },
  {
   "cell_type": "code",
   "execution_count": 156,
   "metadata": {},
   "outputs": [
    {
     "name": "stdout",
     "output_type": "stream",
     "text": [
      "[['Território Nacional' 0 226 ... 40.22 147993 94]\n",
      " ['Território Nacional' 0 226 ... 34.95 128624 81]\n",
      " ['Território Nacional' 0 226 ... 7.15 26307 16]\n",
      " ...\n",
      " ['Viseu' 8 0 ... 0.15 256 0]\n",
      " ['Viseu' 8 0 ... 0.14 239 0]\n",
      " ['Viseu' 8 0 ... 0.07 118 0]]\n"
     ]
    }
   ],
   "source": [
    "print(X)"
   ]
  },
  {
   "cell_type": "code",
   "execution_count": 157,
   "metadata": {},
   "outputs": [
    {
     "name": "stdout",
     "output_type": "stream",
     "text": [
      "[106  77  19 ...   0   0   0]\n"
     ]
    }
   ],
   "source": [
    "print(y)"
   ]
  },
  {
   "cell_type": "code",
   "execution_count": 158,
   "metadata": {},
   "outputs": [],
   "source": [
    "# We need to transform the y to be in a 2D array format. That is\n",
    "# because the StandardScaler object that will be used to apply\n",
    "# feature scaling expects a 2D array format in order to work\n",
    "\n",
    "y = y.reshape(len(y), 1)\n",
    "# first arg in the reshape is the number of rows that the new array\n",
    "# will have, and the second is the number of columns"
   ]
  },
  {
   "cell_type": "code",
   "execution_count": 159,
   "metadata": {},
   "outputs": [
    {
     "name": "stdout",
     "output_type": "stream",
     "text": [
      "[[106]\n",
      " [ 77]\n",
      " [ 19]\n",
      " ...\n",
      " [  0]\n",
      " [  0]\n",
      " [  0]]\n"
     ]
    }
   ],
   "source": [
    "print(y)"
   ]
  },
  {
   "cell_type": "markdown",
   "metadata": {},
   "source": [
    "## Encoding categorical data"
   ]
  },
  {
   "cell_type": "code",
   "execution_count": 160,
   "metadata": {},
   "outputs": [],
   "source": [
    "ct = ColumnTransformer(transformers=[('encoder', OneHotEncoder(), [0,19])], remainder='passthrough')\n",
    "\n",
    "# Fit and do the transformation on X. Since the fit_transform returns the transformed matrix, we need\n",
    "# to save the output to X as a numpy array because this will be expected from the machine learning algo\n",
    "X = np.array(ct.fit_transform(X))"
   ]
  },
  {
   "cell_type": "code",
   "execution_count": 161,
   "metadata": {},
   "outputs": [
    {
     "name": "stdout",
     "output_type": "stream",
     "text": [
      "[[0.0 0.0 0.0 ... 40.22 147993 94]\n",
      " [0.0 0.0 0.0 ... 34.95 128624 81]\n",
      " [0.0 0.0 0.0 ... 7.15 26307 16]\n",
      " ...\n",
      " [0.0 0.0 0.0 ... 0.15 256 0]\n",
      " [0.0 0.0 0.0 ... 0.14 239 0]\n",
      " [0.0 0.0 0.0 ... 0.07 118 0]]\n"
     ]
    }
   ],
   "source": [
    "print(X)"
   ]
  },
  {
   "cell_type": "markdown",
   "metadata": {},
   "source": [
    "## Splitting the data (before feature scaling)"
   ]
  },
  {
   "cell_type": "code",
   "execution_count": 162,
   "metadata": {},
   "outputs": [],
   "source": [
    "from sklearn.model_selection import train_test_split\n",
    "X_train, X_test, y_train, y_test = train_test_split(X, y, test_size = 0.2, random_state = 0)"
   ]
  },
  {
   "cell_type": "markdown",
   "metadata": {},
   "source": [
    "## Feature scaling"
   ]
  },
  {
   "cell_type": "code",
   "execution_count": 163,
   "metadata": {},
   "outputs": [],
   "source": [
    "from sklearn.preprocessing import StandardScaler\n",
    "sc_X = StandardScaler()\n",
    "sc_y = StandardScaler()\n",
    "X_train[:, 42:] = sc_X.fit_transform(X_train[:, 42:])\n",
    "X_test[:, 42:] = sc_X.transform(X_test[:, 42:])\n",
    "\n",
    "y_train = sc_y.fit_transform(y_train)\n",
    "y_test = sc_y.transform(y_test)"
   ]
  },
  {
   "cell_type": "code",
   "execution_count": 164,
   "metadata": {},
   "outputs": [
    {
     "name": "stdout",
     "output_type": "stream",
     "text": [
      "[[0.0 0.0 0.0 ... 0.9039825076225502 0.3262527007245665\n",
      "  0.2904587312431689]\n",
      " [0.0 0.0 0.0 ... -0.4265578781237316 -0.1665358248725105\n",
      "  -0.1799224939932431]\n",
      " [0.0 0.0 0.0 ... -0.45769234000630116 -0.16721789260791958\n",
      "  -0.1799224939932431]\n",
      " ...\n",
      " [0.0 0.0 0.0 ... -0.17290358572750308 0.044190625952928504\n",
      "  -0.023128752247772427]\n",
      " [0.0 1.0 0.0 ... -0.4668495346776452 -0.17139691079629912\n",
      "  -0.1799224939932431]\n",
      " [0.0 1.0 0.0 ... -0.4210635613209252 -0.17162426670810216\n",
      "  -0.1799224939932431]]\n"
     ]
    }
   ],
   "source": [
    "print(X_train)"
   ]
  },
  {
   "cell_type": "code",
   "execution_count": 165,
   "metadata": {},
   "outputs": [
    {
     "name": "stdout",
     "output_type": "stream",
     "text": [
      "[[ 0.27]\n",
      " [-0.17]\n",
      " [-0.17]\n",
      " ...\n",
      " [-0.02]\n",
      " [-0.17]\n",
      " [-0.17]]\n"
     ]
    }
   ],
   "source": [
    "print(y_train)"
   ]
  },
  {
   "cell_type": "markdown",
   "metadata": {},
   "source": [
    "## Train the SVR model"
   ]
  },
  {
   "cell_type": "code",
   "execution_count": 166,
   "metadata": {},
   "outputs": [
    {
     "name": "stderr",
     "output_type": "stream",
     "text": [
      "/home/yannis/anaconda3/lib/python3.7/site-packages/sklearn/utils/validation.py:760: DataConversionWarning: A column-vector y was passed when a 1d array was expected. Please change the shape of y to (n_samples, ), for example using ravel().\n",
      "  y = column_or_1d(y, warn=True)\n"
     ]
    },
    {
     "data": {
      "text/plain": [
       "SVR(C=1.0, cache_size=200, coef0=0.0, degree=3, epsilon=0.1, gamma='scale',\n",
       "    kernel='rbf', max_iter=-1, shrinking=True, tol=0.001, verbose=False)"
      ]
     },
     "execution_count": 166,
     "metadata": {},
     "output_type": "execute_result"
    }
   ],
   "source": [
    "# The kernel can be chosen for linear or non linear data accordingly\n",
    "regressor = SVR(kernel = 'rbf') # rfb = radial basis function (non linear function)\n",
    "regressor.fit(X_train, y_train)"
   ]
  },
  {
   "cell_type": "markdown",
   "metadata": {},
   "source": [
    "## Predicting test set results"
   ]
  },
  {
   "cell_type": "code",
   "execution_count": 169,
   "metadata": {},
   "outputs": [
    {
     "name": "stdout",
     "output_type": "stream",
     "text": [
      "[[-0.19 -0.17]\n",
      " [ 0.69 -0.17]\n",
      " [-0.19 -0.17]\n",
      " ...\n",
      " [-0.1  -0.17]\n",
      " [-0.68 -0.17]\n",
      " [-0.41 -0.17]]\n"
     ]
    }
   ],
   "source": [
    "y_pred = sc_y.inverse_transform(regressor.predict(X_test))\n",
    "np.set_printoptions(precision=2)\n",
    "print(np.concatenate((y_pred.reshape(len(y_pred),1), y_test.reshape(len(y_test),1)),1))"
   ]
  },
  {
   "cell_type": "markdown",
   "metadata": {},
   "source": [
    "## Evaluate the SVR performance"
   ]
  },
  {
   "cell_type": "code",
   "execution_count": 172,
   "metadata": {},
   "outputs": [
    {
     "name": "stdout",
     "output_type": "stream",
     "text": [
      "0.9837981045702319\n"
     ]
    }
   ],
   "source": [
    "print(r2_score(sc_y.inverse_transform(y_test), y_pred))"
   ]
  },
  {
   "cell_type": "code",
   "execution_count": null,
   "metadata": {},
   "outputs": [],
   "source": []
  }
 ],
 "metadata": {
  "kernelspec": {
   "display_name": "Python 3",
   "language": "python",
   "name": "python3"
  },
  "language_info": {
   "codemirror_mode": {
    "name": "ipython",
    "version": 3
   },
   "file_extension": ".py",
   "mimetype": "text/x-python",
   "name": "python",
   "nbconvert_exporter": "python",
   "pygments_lexer": "ipython3",
   "version": "3.7.6"
  }
 },
 "nbformat": 4,
 "nbformat_minor": 4
}
